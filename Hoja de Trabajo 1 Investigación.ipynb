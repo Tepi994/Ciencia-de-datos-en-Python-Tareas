{
 "cells": [
  {
   "cell_type": "markdown",
   "metadata": {},
   "source": [
    "# Hoja de Trabajo 1 \n",
    "### Juan Carlos Girón\n",
    "### 19000607\n"
   ]
  },
  {
   "cell_type": "markdown",
   "metadata": {},
   "source": [
    "## Tarea\n",
    "\n",
    "Con esto terminamos Python basico y sintaxis general faltando unicamente un punto que sera clave para resolver la tarea practica:\n",
    "\n",
    "**Funciones**: \n",
    "Tambien llamadas sub-rutinas, procedimientos o metodos en otros lenguajes, esta tarea consiste en investigar:\n",
    "* funciones en Python \n",
    "* parametros posisionales \n",
    "* parametros nombrados \n",
    "* retorno de multiples valores\n",
    "* funciones como objetos y como parametros de otras funciones\n",
    "* funciones anonimas o lambda\n",
    "\n",
    "Entrega: Documento explicando bajo tus conclusiones(no copy-paste) cada uno de estos puntos ejemplificando un caso de uso, este debe ser subio al GES. Limite de entrega :**Miercoles  13**"
   ]
  },
  {
   "cell_type": "markdown",
   "metadata": {},
   "source": [
    "### Funciones en Python\n",
    "\n",
    "Una función en Python es un bloque de código que corre únicamente cuando es invocado. A las funciones se les puede definir parámetros. Una función permite generalizar un bloque de código y hace que su acceso sea más fácil. \n",
    "Las funciones se definen con la keyword def."
   ]
  },
  {
   "cell_type": "code",
   "execution_count": 9,
   "metadata": {},
   "outputs": [],
   "source": [
    "def funcion_cuadrado(x):\n",
    "    y = x*x\n",
    "    print(\"El cuadrado de\", x, \"es\",y)"
   ]
  },
  {
   "cell_type": "code",
   "execution_count": 8,
   "metadata": {},
   "outputs": [
    {
     "name": "stdout",
     "output_type": "stream",
     "text": [
      "El cuadrado de 3 es 9\n"
     ]
    }
   ],
   "source": [
    "funcion_cuadrado(3)"
   ]
  },
  {
   "cell_type": "markdown",
   "metadata": {},
   "source": [
    "### Parámetros posicionales y parámetros nombrados\n",
    "\n",
    "En Python existen dos formas en la cuales se pueden definir los parámetros de una función. La primera y más intuitiva es utilizando keywords. Se define en la función los argumentos que serán parametrizables en el código. Esto permite al programador llamar a los argumentos por su nombre, ordenarlos en el código de manera que sea más fácil de leer y también darles valores iniciales por defecto si estos no son definidos.\n",
    "\n",
    "Los parámetros posicionales se definen en una función agregando un * al parámetro. Esto habilita pasar un número variable de parámetros sobre la cual se ejecutará el código donde este esta definido.\n",
    "\n",
    "Algo importante a considerar es que al momento de utilizar parámetros posicionales, estos serán transformados a una tupla antes de ser pasados por la función. Esto puede resultar en un alto consumo de memoria.\n",
    "\n",
    "En el ejemplo en las siguientes celdas se puede definir una función definida con parámetros posicionales y keyword arguments. La función con keyword devuelve un error dado que solo se le puede pasar un parámetro mientras que la que es definida con paramétros posicionales devolverá una tupla.\n"
   ]
  },
  {
   "cell_type": "code",
   "execution_count": 46,
   "metadata": {},
   "outputs": [],
   "source": [
    "def pos(*x): \n",
    "        print(x)\n",
    "        \n",
    "def keyw(x):\n",
    "        print(x)\n",
    "\n",
    "        "
   ]
  },
  {
   "cell_type": "code",
   "execution_count": 48,
   "metadata": {},
   "outputs": [
    {
     "name": "stdout",
     "output_type": "stream",
     "text": [
      "('hola', 'mundo')\n"
     ]
    },
    {
     "ename": "TypeError",
     "evalue": "keyw() takes 1 positional argument but 2 were given",
     "output_type": "error",
     "traceback": [
      "\u001b[1;31m---------------------------------------------------------------------------\u001b[0m",
      "\u001b[1;31mTypeError\u001b[0m                                 Traceback (most recent call last)",
      "\u001b[1;32m<ipython-input-48-8ff8d3f01035>\u001b[0m in \u001b[0;36m<module>\u001b[1;34m()\u001b[0m\n\u001b[0;32m      1\u001b[0m \u001b[0mpos\u001b[0m\u001b[1;33m(\u001b[0m\u001b[1;34m\"hola\"\u001b[0m\u001b[1;33m,\u001b[0m \u001b[1;34m\"mundo\"\u001b[0m\u001b[1;33m)\u001b[0m\u001b[1;33m\u001b[0m\u001b[0m\n\u001b[1;32m----> 2\u001b[1;33m \u001b[0mkeyw\u001b[0m\u001b[1;33m(\u001b[0m\u001b[1;34m\"hola\"\u001b[0m\u001b[1;33m,\u001b[0m \u001b[1;34m\"mundo\"\u001b[0m\u001b[1;33m)\u001b[0m\u001b[1;33m\u001b[0m\u001b[0m\n\u001b[0m",
      "\u001b[1;31mTypeError\u001b[0m: keyw() takes 1 positional argument but 2 were given"
     ]
    }
   ],
   "source": [
    "pos(\"hola\", \"mundo\")\n",
    "keyw(\"hola\", \"mundo\")\n",
    "\n"
   ]
  },
  {
   "cell_type": "markdown",
   "metadata": {},
   "source": [
    "### Retorno de múltiples valores \n",
    "\n",
    "Python tiene la característica de poder retornar más de un valor de una función. Técnicamente, una función puede devolver solo un objeto, pero es posible que ese objeto esté compuesto por otros objetos, como por ejemplo lo son las listas y las tuplas. \n",
    "\n",
    "Cuando en una función queremos retornar más de un valor, podemos empaquetar esos valores en listas o tuplas. Esto se ejemplifica en la siguiente función, en la que se devuelve un número y su exponenciación al cubo en una tupla. "
   ]
  },
  {
   "cell_type": "code",
   "execution_count": 51,
   "metadata": {},
   "outputs": [],
   "source": [
    "def funcion_cubo(x):\n",
    "    y = x**3\n",
    "    return x,y"
   ]
  },
  {
   "cell_type": "code",
   "execution_count": 52,
   "metadata": {},
   "outputs": [
    {
     "data": {
      "text/plain": [
       "(3, 27)"
      ]
     },
     "execution_count": 52,
     "metadata": {},
     "output_type": "execute_result"
    }
   ],
   "source": [
    "funcion_cubo(3)"
   ]
  },
  {
   "cell_type": "markdown",
   "metadata": {},
   "source": [
    "### Funciones como objetos o como parametros de otras funciones"
   ]
  },
  {
   "cell_type": "markdown",
   "metadata": {},
   "source": [
    "En Python es posible también definir una función que tome como parámetro alguna otra función. Esto se debe a que las funciones en python son también un tipo de objeto. Esto se puede ver ejemplificado en la siguiente celda.\n",
    "\n",
    "Se define una funcion que obtenga el cuadrado de un número. Esta devuelve una tupla en la cual se tiene el valor inicial y su exponenciación al cuadrado.\n",
    "Luego definimos la funcion aplicar, la cual toma como parámetro una función y parámetros posicionales. Al llamarla pasandole como parametro funcion_cuadrado, esta devolvera las tuplas de los parametros posicionales que le definamos."
   ]
  },
  {
   "cell_type": "code",
   "execution_count": 58,
   "metadata": {},
   "outputs": [],
   "source": [
    "def funcion_cuadrado(x):\n",
    "    y = x**2\n",
    "    return x,y \n",
    "\n",
    "def aplicar(funcion, *args):\n",
    "    for n in args:\n",
    "        print(funcion(n))"
   ]
  },
  {
   "cell_type": "code",
   "execution_count": 60,
   "metadata": {},
   "outputs": [
    {
     "name": "stdout",
     "output_type": "stream",
     "text": [
      "(1, 1)\n",
      "(2, 4)\n",
      "(3, 9)\n"
     ]
    }
   ],
   "source": [
    "aplicar(funcion_cuadrado, 1,2,3)"
   ]
  },
  {
   "cell_type": "markdown",
   "metadata": {},
   "source": [
    "### Funciones anónimas o lambda"
   ]
  },
  {
   "cell_type": "markdown",
   "metadata": {},
   "source": [
    "Las funciones lambda o funciones anónimas son un tipo de funcion de una línea. Estas no se definen como una función tradicional, he ahí porqué son anónimas.\n",
    "\n",
    "Las funciones lambda no pueden tener sentencias. También es importante destacar que una función lambda no puede retornar un valor falso, la función siempre retornar un valor verdadero.\n",
    "\n",
    "Con anterioridad habíamos definido una función que retornara el cuadrado de un número. Con una función lambda esto se haría de manera más simple:"
   ]
  },
  {
   "cell_type": "code",
   "execution_count": 65,
   "metadata": {},
   "outputs": [
    {
     "data": {
      "text/plain": [
       "4"
      ]
     },
     "execution_count": 65,
     "metadata": {},
     "output_type": "execute_result"
    }
   ],
   "source": [
    "cuadrado = lambda x: x**2\n",
    "cuadrado(2)"
   ]
  }
 ],
 "metadata": {
  "kernelspec": {
   "display_name": "Python 3",
   "language": "python",
   "name": "python3"
  },
  "language_info": {
   "codemirror_mode": {
    "name": "ipython",
    "version": 3
   },
   "file_extension": ".py",
   "mimetype": "text/x-python",
   "name": "python",
   "nbconvert_exporter": "python",
   "pygments_lexer": "ipython3",
   "version": "3.6.5"
  }
 },
 "nbformat": 4,
 "nbformat_minor": 2
}
