{
 "cells": [
  {
   "cell_type": "markdown",
   "metadata": {},
   "source": [
    "#### Investigar\n",
    "\n",
    "* Proyección vectorial\n",
    "    * Definir una función para calculo en numpy\n",
    "    * interpretación\n",
    "    * aplicación o caso de uso en DS u otras ciencias de tu interés: solo se necesita nombrar el caso de uso, no desarrollarlo o programarlo, tip: Hay un algoritmo de ML cuyo nombre puede ser  útil.\n",
    "* Producto cruz\n",
    "    * calculo en numpy\n",
    "    * interpretación\n",
    "    * aplicación o caso de uso en DS u otras ciencias de tu interés: solo se necesita nombrar el caso de uso, no desarrollarlo o programarlo\n",
    "    \n",
    "#### Referencias\n",
    "\n",
    "* https://www.oreilly.com/library/view/data-science-from/9781491901410/ch04.html\n",
    "* https://towardsdatascience.com/linear-algebra-cheat-sheet-for-deep-learning-cd67aba4526c\n",
    "* https://www.analyticsvidhya.com/blog/2017/05/comprehensive-guide-to-linear-algebra/\n",
    "* https://towardsdatascience.com/boost-your-data-sciences-skills-learn-linear-algebra-2c30fdd008cf\n",
    "* https://machinelearningmastery.com/examples-of-linear-algebra-in-machine-learning/\n",
    "* https://www.youtube.com/playlist?list=PLZHQObOWTQDPD3MizzM2xVFitgF8hE_ab"
   ]
  },
  {
   "cell_type": "markdown",
   "metadata": {},
   "source": [
    "## Proyección Vectorial\n",
    "\n",
    "La proyección vectorial es una extensión del producto escalar. La proyección vectorial  de un vector *a* sobre un vector *b* se define como el producto punto del vector *a* por el vector *b* sobre la magnitud del vector *b*.  \n",
    "\n",
    "Geométricamente esto nos dice el largo del segmento de recta que se genera por la proyección (ver imagen adjunta en el link). \n",
    "Como la proyección vectorial toma como base el producto punto, también se puede calcular utilizando la función coseno si se conoce el ángulo entre los vectores. Esto es importante, ya que utilizando el coseno podemos determinar qué tan similares son dos vectores gracias a la similitud cosenoidal.\n",
    "\n",
    "La proyección vectorial y la similitud cosenoidal tienen aplicaciones en Machine Learning. se emplea frecuentemente en la búsqueda y recuperación de información representando las palabras de un documento. En minería de textos se aplica la similitud coseno con el objeto de establecer una métrica de semejanza entre textos. \n",
    "\n",
    "\n"
   ]
  },
  {
   "cell_type": "markdown",
   "metadata": {},
   "source": [
    "`https://math.oregonstate.edu/home/programs/undergrad/CalculusQuestStudyGuides/vcalc/dotprod/dotprod2.gif"
   ]
  },
  {
   "cell_type": "code",
   "execution_count": 2,
   "metadata": {},
   "outputs": [],
   "source": [
    "import numpy as np"
   ]
  },
  {
   "cell_type": "code",
   "execution_count": 6,
   "metadata": {},
   "outputs": [],
   "source": [
    "\n",
    "def proyeccion_vectorial(a,b):\n",
    "    proyeccion = a*b/np.linalg.norm(b)\n",
    "    \n",
    "    return proyeccion"
   ]
  },
  {
   "cell_type": "code",
   "execution_count": 10,
   "metadata": {},
   "outputs": [
    {
     "data": {
      "text/plain": [
       "array([0.26726124, 1.06904497, 2.40535118])"
      ]
     },
     "execution_count": 10,
     "metadata": {},
     "output_type": "execute_result"
    }
   ],
   "source": [
    "a = np.array([1,2,3])\n",
    "b = np.array([1,2,3])\n",
    "proyeccion_vectorial(a,b)"
   ]
  },
  {
   "cell_type": "markdown",
   "metadata": {},
   "source": [
    "## Producto Cruz\n",
    "\n",
    "También es conocido como producto vectorial. A diferencia del producto punto, el producto cruz da como resultado un vector perpendicular a los dos vectores que se están multiplicando. \n",
    "\n",
    "Para que el producto cruz entre dos matrices esté definido, se tiene que cumplir: \n",
    "\n",
    "A = MxN \n",
    "B =NxS\n",
    "Donde la primera posición indica filas y la segunda columnas. El número de columnas de la matriz A debe de ser igual al número de filas de la matriz B. Dicho esto, a diferencia del producto punto, el producto cruz no es conmutativo.\n",
    "\n",
    "Una aplicación bastante común del producto cruz es para obtener el campo magnético generado por una corriente eléctrica. Este es perpendicular al plano de la corriente."
   ]
  },
  {
   "cell_type": "code",
   "execution_count": 13,
   "metadata": {},
   "outputs": [
    {
     "data": {
      "text/plain": [
       "array([ 20, -10,  -5])"
      ]
     },
     "execution_count": 13,
     "metadata": {},
     "output_type": "execute_result"
    }
   ],
   "source": [
    "x = [3, 5, 2]\n",
    "y = [4, 5, 6]\n",
    "np.cross(x, y)"
   ]
  }
 ],
 "metadata": {
  "kernelspec": {
   "display_name": "Python 3",
   "language": "python",
   "name": "python3"
  },
  "language_info": {
   "codemirror_mode": {
    "name": "ipython",
    "version": 3
   },
   "file_extension": ".py",
   "mimetype": "text/x-python",
   "name": "python",
   "nbconvert_exporter": "python",
   "pygments_lexer": "ipython3",
   "version": "3.6.5"
  }
 },
 "nbformat": 4,
 "nbformat_minor": 2
}
